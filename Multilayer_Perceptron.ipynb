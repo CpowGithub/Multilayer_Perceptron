{
 "cells": [
  {
   "cell_type": "markdown",
   "metadata": {},
   "source": [
    "*Please note: This is a coding challenge I set for myself.*\n",
    "\n",
    "*Please note: Idea of this challenge is based on the book \"Make Your Own Neural Network\" by Tariq Rashid*\n",
    "\n",
    "## Coding Challenge:\n",
    "1. Get more practice with jupyter notebook\n",
    "2. Get more practice with git\n",
    "3. Get more practice with python\n",
    "4. Write a simple multilayer perceptron and show that it is able to learn the MNIST handwritten digit database"
   ]
  },
  {
   "cell_type": "markdown",
   "metadata": {},
   "source": [
    "### MNIST Dataset\n",
    "\n",
    "The MNIST database is a large database of handwritten digits(0-9). The dataset is commonly used for training various image processing systems. To train a multilayer perceptron(MLP) on pictures we need to convert the image matrix to a vector. For the MNIST dataset, this means we need to convert a 28x28 matrix into a vector with the size of 784. The general layout of the network will be:\n",
    "\n",
    "* input layer with 784 input nodes (for the 28x28 images)\n",
    "* one hidden layer with x nodes\n",
    "* output layer with 10 nodes (for the labels 0-9)"
   ]
  },
  {
   "cell_type": "code",
   "execution_count": 73,
   "metadata": {
    "collapsed": true
   },
   "outputs": [],
   "source": [
    "import numpy as np\n",
    "from scipy import special\n",
    "\n",
    "# visualization\n",
    "import matplotlib.pyplot as plt\n",
    "%matplotlib inline"
   ]
  },
  {
   "cell_type": "code",
   "execution_count": 90,
   "metadata": {
    "collapsed": true
   },
   "outputs": [],
   "source": [
    "class MultilayerPerceptron(object):\n",
    "    \"\"\"A simple multilayer perceptron\n",
    "\n",
    "    :param input_nodes: An int, the number of input nodes\n",
    "    :param input_nodes: An int, the number of hidden nodes\n",
    "    :param output_nodes: An int, the number of output nodes\n",
    "    :param weights: A numpy array of the shape(3,1), the weight matrix\n",
    "    :param activation_function: activation function at the output node -> in this case a step function\n",
    "    :param learning_rate : A float, the learning speed coefficient\n",
    "    :param error : A numpy array, holding the errors for the current epoch\n",
    "    \"\"\"\n",
    "    def __init__(self, input_nodes, hidden_nodes, output_nodes, learning_rate):\n",
    "\n",
    "        self.w_i_h = np.random.normal(0.0, pow(input_nodes, -0.5), (hidden_nodes, input_nodes))\n",
    "        self.w_h_o = np.random.normal(0.0, pow(hidden_nodes, -0.5), (output_nodes, hidden_nodes))\n",
    "\n",
    "        self.output_error = 1\n",
    "        \n",
    "        self.lr = learning_rate\n",
    "        \n",
    "        # activation function is the sigmoid function\n",
    "        self.activation_function = lambda x: 1 / ( 1 + np.exp(-x) )\n",
    "        self.activation_function_derivative = lambda x: x * ( 1 - x )\n",
    "        self.activation_function_inverse = lambda x: special.logit(x)\n",
    "    \n",
    "    def train(self, inputs, targets):\n",
    "        \"\"\" Performance a single training steep. Run the feedforward step, \n",
    "            run backpropagation and update the weights\"\"\"\n",
    "        hidden_outputs, final_outputs = self.feedforward(inputs)\n",
    "        self.update_weights(inputs, targets, hidden_outputs, final_outputs)\n",
    "\n",
    "    def update_weights(self, inputs, targets, hidden_outputs, final_outputs):\n",
    "        \"\"\"Calculate the output error, perform backpropagation and update the weights\"\"\"\n",
    "        # calculate errors\n",
    "        self.output_error = targets - final_outputs\n",
    "        hidden_errors = np.dot(self.w_h_o.T, self.output_error)     \n",
    "        # update weights \n",
    "        self.w_h_o += self.lr * np.dot((self.output_error * final_outputs * (1.0 - final_outputs)), hidden_outputs.T)\n",
    "        self.w_i_h += self.lr * np.dot((hidden_errors * hidden_outputs * (1.0 - hidden_outputs)), inputs.T)\n",
    "        \n",
    "    def feedforward(self, inputs):\n",
    "        \"\"\" Performance a single feedforward steep through the whole network.\"\"\"\n",
    "        hidden_inputs = np.dot(self.w_i_h, inputs)\n",
    "        hidden_outputs = self.activation_function(hidden_inputs)\n",
    "\n",
    "        final_inputs = np.dot(self.w_h_o, hidden_outputs)\n",
    "        final_outputs = self.activation_function(final_inputs)\n",
    "        \n",
    "        return hidden_outputs, final_outputs\n",
    "        \n",
    "    def predict(self, inputs):\n",
    "        \"\"\" Performance a single feedforward steep through the whole network \n",
    "            and get the resulting network prediction\"\"\"\n",
    "        _, final_outputs = self.feedforward(inputs)\n",
    "        \n",
    "        return final_outputs\n",
    "    \n",
    "    def rescale(self, unscaled_values):\n",
    "        \"\"\" Helper function to scale the input to a value between 0.01 and 0.99 \"\"\"\n",
    "        scaled_values = unscaled_values\n",
    "        scaled_values -= np.min(scaled_values)\n",
    "        scaled_values /= np.max(scaled_values)\n",
    "        scaled_values *= 0.99\n",
    "        scaled_values += 0.01\n",
    "        \n",
    "        return scaled_values\n",
    "        \n",
    "    def backquery(self, targets):\n",
    "        \"\"\" Run the network backward, given a label, too see the learned generalization \"\"\"\n",
    "        \n",
    "        final_inputs = self.activation_function_inverse(targets)\n",
    "        # calculate the signal out of the hidden layer\n",
    "        hidden_outputs = np.dot(self.w_h_o.T, final_inputs)\n",
    "        # scale them back to 0.01 to .99\n",
    "        hidden_outputs = self.rescale(hidden_outputs)\n",
    "        \n",
    "        # calculate the signal into the hidden layer\n",
    "        hidden_inputs = self.activation_function_inverse(hidden_outputs)\n",
    "        # calculate the signal out of the input layer\n",
    "        inputs = np.dot(self.w_i_h.T, hidden_inputs)\n",
    "        # scale them back to 0.01 to .99\n",
    "        inputs = self.rescale(inputs)\n",
    "        \n",
    "        return inputs"
   ]
  },
  {
   "cell_type": "code",
   "execution_count": 88,
   "metadata": {
    "collapsed": true
   },
   "outputs": [],
   "source": [
    "multilayer_perceptron = MultilayerPerceptron(input_nodes = 784, \n",
    "                                             hidden_nodes = 200, \n",
    "                                             output_nodes = 10, \n",
    "                                             learning_rate = 0.1)"
   ]
  },
  {
   "cell_type": "markdown",
   "metadata": {},
   "source": [
    "## Train the network"
   ]
  },
  {
   "cell_type": "code",
   "execution_count": 89,
   "metadata": {},
   "outputs": [],
   "source": [
    "epochs = 5\n",
    "\n",
    "for e in range(epochs):\n",
    "    with open(\"mnist_dataset/mnist_train.csv\", 'r') as mnist_train:\n",
    "        for record in mnist_train.readlines():\n",
    "            all_values = record.split(',')\n",
    "            # scale and shift the inputs\n",
    "            inputs = (np.asfarray(all_values[1:]).T / 255.0 * 0.99) + 0.01\n",
    "            # create the target output values (all 0.01, except the desired label which is 0.99)\n",
    "            targets = np.zeros(10).T + 0.01\n",
    "            # all_values[0] is the target label for this record\n",
    "            targets[int(all_values[0])] = 0.99\n",
    "            multilayer_perceptron.train(np.array(inputs, ndmin=2).T, np.array(targets, ndmin=2).T)"
   ]
  },
  {
   "cell_type": "markdown",
   "metadata": {},
   "source": [
    "## Test the neural network"
   ]
  },
  {
   "cell_type": "code",
   "execution_count": 91,
   "metadata": {},
   "outputs": [
    {
     "name": "stdout",
     "output_type": "stream",
     "text": [
      "Overall performance =  0.9725\n"
     ]
    }
   ],
   "source": [
    "scorecard = []\n",
    "\n",
    "# go through all the records in the test data set\n",
    "for e in range(epochs):\n",
    "    with open(\"mnist_dataset/mnist_test.csv\", 'r') as mnist_test:\n",
    "        for record in mnist_test.readlines():\n",
    "            all_values = record.split(',')\n",
    "            # correct answer is first value\n",
    "            correct_label = int(all_values[0])\n",
    "            # scale and shift the inputs\n",
    "            inputs = (np.asfarray(all_values[1:]) / 255.0 * 0.99) + 0.01\n",
    "            outputs = multilayer_perceptron.predict(np.array(inputs, ndmin=2).T)\n",
    "            # the index of the highest value corresponds to the label\n",
    "            label = np.argmax(outputs)\n",
    "\n",
    "            if (label == correct_label):\n",
    "                scorecard.append(1)\n",
    "            else:\n",
    "                scorecard.append(0)\n",
    "                \n",
    "# calculate the accuracy of the network \n",
    "scorecard_array = np.asarray(scorecard)\n",
    "print (\"Overall performance = \", scorecard_array.sum() / scorecard_array.size)"
   ]
  },
  {
   "cell_type": "markdown",
   "metadata": {},
   "source": [
    "## Backquery\n",
    "\n",
    "Backquery means to run the network backward, given a label, too see the learned generalization. "
   ]
  },
  {
   "cell_type": "code",
   "execution_count": 92,
   "metadata": {},
   "outputs": [
    {
     "name": "stdout",
     "output_type": "stream",
     "text": [
      "[ 0.99  0.01  0.01  0.01  0.01  0.01  0.01  0.01  0.01  0.01]\n"
     ]
    },
    {
     "data": {
      "text/plain": [
       "<matplotlib.image.AxesImage at 0x18f2e589be0>"
      ]
     },
     "execution_count": 92,
     "metadata": {},
     "output_type": "execute_result"
    },
    {
     "data": {
      "image/png": "[encoded data removed]",
      "text/plain": [
       "<matplotlib.figure.Figure at 0x18f2eae0828>"
      ]
     },
     "metadata": {},
     "output_type": "display_data"
    }
   ],
   "source": [
    "# label to test\n",
    "label = 0\n",
    "# create the output signals for this label\n",
    "output_nodes = 10\n",
    "targets = np.zeros(output_nodes) + 0.01\n",
    "# all_values[0] is the target label for this record\n",
    "targets[label] = 0.99\n",
    "print(targets)\n",
    "\n",
    "image_data = multilayer_perceptron.backquery(np.array(targets, ndmin=2).T)\n",
    "plt.imshow(image_data.reshape(28,28), cmap='Greys', interpolation='None')"
   ]
  },
  {
   "cell_type": "code",
   "execution_count": null,
   "metadata": {
    "collapsed": true
   },
   "outputs": [],
   "source": []
  }
 ],
 "metadata": {
  "kernelspec": {
   "display_name": "Python 3",
   "language": "python",
   "name": "python3"
  },
  "language_info": {
   "codemirror_mode": {
    "name": "ipython",
    "version": 3
   },
   "file_extension": ".py",
   "mimetype": "text/x-python",
   "name": "python",
   "nbconvert_exporter": "python",
   "pygments_lexer": "ipython3",
   "version": "3.6.4"
  },
  "varInspector": {
   "cols": {
    "lenName": 16,
    "lenType": 16,
    "lenVar": 40
   },
   "kernels_config": {
    "python": {
     "delete_cmd_postfix": "",
     "delete_cmd_prefix": "del ",
     "library": "var_list.py",
     "varRefreshCmd": "print(var_dic_list())"
    },
    "r": {
     "delete_cmd_postfix": ") ",
     "delete_cmd_prefix": "rm(",
     "library": "var_list.r",
     "varRefreshCmd": "cat(var_dic_list()) "
    }
   },
   "types_to_exclude": [
    "module",
    "function",
    "builtin_function_or_method",
    "instance",
    "_Feature"
   ],
   "window_display": false
  }
 },
 "nbformat": 4,
 "nbformat_minor": 2
}
